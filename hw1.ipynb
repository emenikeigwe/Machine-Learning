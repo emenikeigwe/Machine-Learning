{
 "cells": [
  {
   "cell_type": "markdown",
   "id": "23641c0c-e14f-42cd-9b96-b4acc50196d2",
   "metadata": {
    "tags": []
   },
   "source": [
    "# Assignment #1: KNN Classifier\n"
   ]
  },
  {
   "cell_type": "code",
   "execution_count": 397,
   "id": "feda907b-2181-4fb0-afde-37759fab59f8",
   "metadata": {
    "tags": []
   },
   "outputs": [
    {
     "name": "stdout",
     "output_type": "stream",
     "text": [
      "Requirement already satisfied: ucimlrepo in /Users/mnek/anaconda3/lib/python3.11/site-packages (0.0.3)\n",
      "Note: you may need to restart the kernel to use updated packages.\n"
     ]
    }
   ],
   "source": [
    "pip install ucimlrepo"
   ]
  },
  {
   "cell_type": "code",
   "execution_count": 398,
   "id": "ed6ee80f-b0f8-4224-864f-29cbf17942aa",
   "metadata": {
    "tags": []
   },
   "outputs": [
    {
     "name": "stdout",
     "output_type": "stream",
     "text": [
      "[[ 7.4   0.7   0.   ...  3.51  0.56  9.4 ]\n",
      " [ 7.8   0.88  0.   ...  3.2   0.68  9.8 ]\n",
      " [ 7.8   0.76  0.04 ...  3.26  0.65  9.8 ]\n",
      " ...\n",
      " [ 6.5   0.24  0.19 ...  2.99  0.46  9.4 ]\n",
      " [ 5.5   0.29  0.3  ...  3.34  0.38 12.8 ]\n",
      " [ 6.    0.21  0.38 ...  3.26  0.32 11.8 ]]\n",
      "[[1]\n",
      " [1]\n",
      " [1]\n",
      " ...\n",
      " [1]\n",
      " [1]\n",
      " [1]]\n"
     ]
    }
   ],
   "source": [
    "import numpy as np\n",
    "import numpy.typing as npt\n",
    "from ucimlrepo import fetch_ucirepo \n",
    "  \n",
    "# fetch dataset \n",
    "wine_quality = fetch_ucirepo(id=186) \n",
    "  \n",
    "# data (as pandas dataframes) \n",
    "features = wine_quality.data.features.copy()\n",
    "# features = features.drop([\"density\", \"pH\", \"chlorides\"], axis=1)\n",
    "targets = wine_quality.data.targets.copy()\n",
    "\n",
    "# transform quality column into binary \"good\" and \"bad\"\n",
    "targets[\"quality\"] = np.where(targets[\"quality\"] < 5, 0, 1)\n",
    "\n",
    "\n",
    "features = features.to_numpy()\n",
    "targets = targets.to_numpy()\n",
    "\n",
    "print(features)\n",
    "print(targets)"
   ]
  },
  {
   "cell_type": "markdown",
   "id": "9297562b-2551-4c74-8ea5-33519f166474",
   "metadata": {
    "tags": []
   },
   "source": [
    "### 1. Write a function to calculate and return the Minkowski distance with optional argument p defaulting to ‘p=2’ (Euclidean) of two vectors where a vector represents a data point."
   ]
  },
  {
   "cell_type": "markdown",
   "id": "f0f0ce3d-92bf-4d81-9fd8-2dc2ae6a7498",
   "metadata": {},
   "source": [
    "Note: Minkowski Distance is the generalized form of distance calculations with p=1 representing Manhattan distance and p=2 representing Euclidean"
   ]
  },
  {
   "cell_type": "code",
   "execution_count": 399,
   "id": "ee1b348e-bacb-4458-9b67-7bd61ed9721c",
   "metadata": {
    "tags": []
   },
   "outputs": [],
   "source": [
    "def minkowski_dist(v1: np.ndarray, v2: np.ndarray, p: int=2):\n",
    "    return np.sum((np.absolute(np.power(np.subtract(v1, v2), p))))**(1.0/p)"
   ]
  },
  {
   "cell_type": "code",
   "execution_count": 400,
   "id": "b58d895a-51cc-4f92-9f2d-1bedc152071b",
   "metadata": {
    "tags": []
   },
   "outputs": [],
   "source": [
    "# minkowski_dist([1,3,5,7],[2,4,6,8], p=1)"
   ]
  },
  {
   "cell_type": "code",
   "execution_count": 401,
   "id": "055e532d-862a-41d9-8da7-c2cc96710c31",
   "metadata": {
    "tags": []
   },
   "outputs": [],
   "source": [
    "# minkowski_dist([1,3,5,7],[2,4,6,8])"
   ]
  },
  {
   "cell_type": "code",
   "execution_count": 402,
   "id": "2b23c10c-17cc-44ce-a17e-e4639a0e8d1c",
   "metadata": {
    "tags": []
   },
   "outputs": [],
   "source": [
    "# minkowski_dist([1,3,5,7],[2,4,6,8], p=3)"
   ]
  },
  {
   "cell_type": "code",
   "execution_count": 403,
   "id": "4dd7d0ae-a2ad-42a5-bb1b-753074b767e2",
   "metadata": {
    "tags": []
   },
   "outputs": [],
   "source": [
    "# minkowski_dist([1,3,5,7],[2,4,6,8], p=4)"
   ]
  },
  {
   "cell_type": "markdown",
   "id": "cb53c47d-670e-4199-befd-46e8f5b49665",
   "metadata": {},
   "source": [
    "### 2. Write a function to calculate and return the accuracy of two vectors."
   ]
  },
  {
   "cell_type": "code",
   "execution_count": 573,
   "id": "4aa27b48-dad6-4e30-9ba9-d3141714cc38",
   "metadata": {
    "tags": []
   },
   "outputs": [],
   "source": [
    "def accuracy(v1: np.ndarray, v2: np.ndarray):\n",
    "    assert len(v1) == len(v2)\n",
    "    return np.sum(v1 == v2)/np.size(v1)\n",
    "    # return sum([X[i] == Y[i] for i in range(len(X))])/len(X)"
   ]
  },
  {
   "cell_type": "code",
   "execution_count": 405,
   "id": "47e6ead6-3c3e-48b0-8c7b-4ad89a7c5d24",
   "metadata": {
    "tags": []
   },
   "outputs": [],
   "source": [
    "# X = np.asarray(list(range(20)))\n",
    "# Y = np.asarray(list(range(20)))\n",
    "# Y[3], Y[10], X[6] = 10, 3, 2"
   ]
  },
  {
   "cell_type": "code",
   "execution_count": 406,
   "id": "1334f01c-98cc-4080-8f67-c66f1210b75e",
   "metadata": {
    "tags": []
   },
   "outputs": [],
   "source": [
    "# accuracy(X, Y)"
   ]
  },
  {
   "cell_type": "markdown",
   "id": "9df4fd4f-43d3-49e4-ace7-bffe9b90517f",
   "metadata": {
    "tags": []
   },
   "source": [
    "### 3. Write three functions to compute: precision, recall and F1 score."
   ]
  },
  {
   "cell_type": "code",
   "execution_count": 407,
   "id": "75113c9c-da9f-409f-8c4d-87f1c9f9338e",
   "metadata": {
    "tags": []
   },
   "outputs": [],
   "source": [
    "def precision(v1: np.ndarray, v2: np.ndarray):\n",
    "    # true positive over predicted positive\n",
    "    # precision measures how accurate your positive predictions are\n",
    "    # which percentage of your positive predictions are correct\n",
    "    # !! How many retrieved items are relevant?\n",
    "    # true positives out of retrieved\n",
    "    true_pos = 0\n",
    "    false_pos = 0\n",
    "    for i in range(len(v1)):\n",
    "        if v1[i] and v2[i]:\n",
    "            true_pos += 1\n",
    "        if not v1[i] and v2[i]:\n",
    "            false_pos += 1\n",
    "\n",
    "    return 1.0 * true_pos / (true_pos + false_pos)"
   ]
  },
  {
   "cell_type": "code",
   "execution_count": 408,
   "id": "783a8ebf-9aeb-4ec3-bfa3-e534dfebf27f",
   "metadata": {
    "tags": []
   },
   "outputs": [],
   "source": [
    "def recall(v1: np.ndarray, v2: np.ndarray):\n",
    "    # true positive over real positive\n",
    "    # recall measures how well you find all the actual positives\n",
    "    # which percentage of actual positive samples were correctly classified\n",
    "    # !! How many relevant items are retrieved?\n",
    "    # true positives out of all actual positives\n",
    "    true_pos = 0\n",
    "    false_neg = 0\n",
    "    \n",
    "    for i in range(len(v1)):\n",
    "        if v1[i] and v2[i]:\n",
    "            true_pos += 1\n",
    "        if v1[i] and not v2[i]:\n",
    "            false_neg += 1\n",
    "    return true_pos/(true_pos + false_neg)"
   ]
  },
  {
   "cell_type": "code",
   "execution_count": 409,
   "id": "2609ef55-837c-4abc-9dfc-283c990a9bfa",
   "metadata": {
    "tags": []
   },
   "outputs": [],
   "source": [
    "def F1(v1: np.ndarray, v2: np.ndarray):\n",
    "    pre = precision(v1, v2)\n",
    "    rec = recall(v1, v2)\n",
    "    \n",
    "    return 2*(pre*rec)/(pre + rec)"
   ]
  },
  {
   "cell_type": "code",
   "execution_count": 410,
   "id": "f37b6db2-46b8-442c-a58a-34bf96de5976",
   "metadata": {
    "tags": []
   },
   "outputs": [],
   "source": [
    "# X = np.asarray([0, 0, 1, 1, 0, 0, 0, 1])\n",
    "# Y = np.asarray([0, 0, 1, 0, 1, 0, 1, 0])\n",
    "# print(accuracy(X, Y))\n",
    "# print(precision(X, Y))\n",
    "# print(recall(X, Y))\n",
    "# print(F1(X, Y))"
   ]
  },
  {
   "cell_type": "markdown",
   "id": "9287b51d-5a82-421a-b186-a62cbcfeafa8",
   "metadata": {},
   "source": [
    "## 4. Write a function to compute the confusion matrix of two vectors."
   ]
  },
  {
   "cell_type": "code",
   "execution_count": 411,
   "id": "0d0bb2dc-bd75-4ace-b623-afdb750aa163",
   "metadata": {
    "tags": []
   },
   "outputs": [],
   "source": [
    "def confusion_matrix(X: np.ndarray, Y: np.ndarray):\n",
    "    true_neg = 0\n",
    "    false_pos = 0\n",
    "    false_neg = 0\n",
    "    true_pos = 0\n",
    "    \n",
    "    for i in range(len(X)):\n",
    "        if X[i] == Y[i] and not X[i]:\n",
    "            true_neg += 1\n",
    "        if X[i] != Y[i] and not X[i]:\n",
    "            false_pos += 1\n",
    "        if X[i] != Y[i] and X[i]:\n",
    "            false_neg += 1\n",
    "        if X[i] == Y[i] and X[i]:\n",
    "            true_pos += 1\n",
    "    return [[true_neg, false_pos], [false_neg, true_pos]]"
   ]
  },
  {
   "cell_type": "code",
   "execution_count": 412,
   "id": "83d36842-f6a2-4d9c-af62-b2c7d878c733",
   "metadata": {
    "tags": []
   },
   "outputs": [],
   "source": [
    "# print(confusion_matrix(X, Y))"
   ]
  },
  {
   "cell_type": "markdown",
   "id": "a43ac858-84dc-4a8b-83a4-46beebd4dfdb",
   "metadata": {},
   "source": [
    "## 5. Write a function to generate the Receiver Operating Characteristic (ROC) curve."
   ]
  },
  {
   "cell_type": "code",
   "execution_count": 413,
   "id": "a1b7c4d6-0056-4f32-8fe0-14be1832e1cf",
   "metadata": {
    "tags": []
   },
   "outputs": [],
   "source": [
    "def roc():\n",
    "    pass"
   ]
  },
  {
   "cell_type": "markdown",
   "id": "aad79c80-e870-4d0e-a784-2081026cc0ea",
   "metadata": {},
   "source": [
    "## 6. Write a function to compute area under curve (AUC) for the ROC curve."
   ]
  },
  {
   "cell_type": "code",
   "execution_count": 414,
   "id": "2780cf6c-064d-411d-8c6d-d193969e4929",
   "metadata": {
    "tags": []
   },
   "outputs": [],
   "source": [
    "def auc():\n",
    "    pass"
   ]
  },
  {
   "cell_type": "markdown",
   "id": "e0806202-b81b-42ab-b8cc-a20f4bbf1909",
   "metadata": {
    "tags": []
   },
   "source": [
    "## 7. Write a function to generate the precision-recall curve."
   ]
  },
  {
   "cell_type": "code",
   "execution_count": 415,
   "id": "77b37ac7-0552-49c8-aaf7-c30201de992c",
   "metadata": {
    "tags": []
   },
   "outputs": [],
   "source": [
    "def precision_recall():\n",
    "    pass"
   ]
  },
  {
   "cell_type": "markdown",
   "id": "5ab02a7a-ea64-49b8-b9dc-9100b4dcfa18",
   "metadata": {},
   "source": [
    "## 8. Implement a KNN_Classifier model class. It should have the following three methods."
   ]
  },
  {
   "cell_type": "markdown",
   "id": "a1892bb0-0566-4dcd-89de-340213f98774",
   "metadata": {},
   "source": [
    "#### a) __init__(self,) It’s a standard python initialization function so we can instantiate the class. Just “pass” this."
   ]
  },
  {
   "cell_type": "markdown",
   "id": "cbb4729a-217a-4b4f-af73-8ad834c69fb0",
   "metadata": {},
   "source": [
    "#### b) fit(self, X, Y) This method simply needs to store the relevant values as instance variables."
   ]
  },
  {
   "cell_type": "markdown",
   "id": "5c6b4e73-207f-4c40-8cbf-fbf07616c257",
   "metadata": {},
   "source": [
    "#### c) predict(self, X,threshold=.5) This method will use the instance variables stored by the fit method."
   ]
  },
  {
   "cell_type": "code",
   "execution_count": 565,
   "id": "aef2e600-9701-4f38-ad58-edb650b0f00b",
   "metadata": {
    "tags": []
   },
   "outputs": [],
   "source": [
    "class KNN_Classifier:\n",
    "    def __init__(self, n_neighbors: int, weights: str=\"uniform\", p: int=2) -> None:\n",
    "        self.n_neighbors = n_neighbors\n",
    "        self.weights = weights\n",
    "        self.p = p\n",
    "        self.X_ = None\n",
    "        self.Y_ = None\n",
    "\n",
    "        \n",
    "    def fit(self, X, Y) -> None:\n",
    "        self.X_ = X\n",
    "        self.Y_ = Y\n",
    "    \n",
    "    def predict(self, X: np.ndarray, threshold: float=.5) -> np.ndarray:\n",
    "        probabilities = self.predict_proba(X)\n",
    "        predictions = []\n",
    "        for prob in probabilities:\n",
    "            if prob >= threshold:\n",
    "                predictions.append([1])\n",
    "            else:\n",
    "                predictions.append([0])\n",
    "        return np.asarray(predictions)\n",
    "    \n",
    "    def predict_proba(self, X: np.ndarray) -> np.ndarray:\n",
    "        probabilities = []\n",
    "        # looping through every x we want to predict\n",
    "        for x in X:\n",
    "            distances = []\n",
    "            # looping through training data rows\n",
    "            for i in range(len(self.X_)):\n",
    "                # find distance\n",
    "                distance = minkowski_dist(x, self.X_[i], self.p)\n",
    "                # weight points based on weight metric\n",
    "                factor = 1 if self.weights == \"distance\" else 1.0/distance\n",
    "                # add tuple of x, y, and distance\n",
    "                distances.append((self.X_[i], self.Y_[i], factor*distance))\n",
    "            # find the k nearest neighbors\n",
    "            neighbors = sorted(distances, key=lambda tup: tup[2])[:self.n_neighbors]\n",
    "            # calculate and store positive class probability\n",
    "            probabilities.append(sum([n[1] for n in neighbors])/self.n_neighbors)\n",
    "        return np.asarray(probabilities)\n",
    "    \n",
    "    def get_params(self):\n",
    "        return {\"n_neighbors\": self.n_neighbors, \"weights\": self.weights, \"p\": self.p}\n",
    "    \n",
    "    def set_params(self, **params: dict) -> None:\n",
    "        self.n_neighbors = params.get(\"n_neighbors\", self.n_neighbors)\n",
    "        self.weights = params.get(\"weights\", self.weights)\n",
    "        self.p = params.get(\"p\", self.p)\n",
    "    "
   ]
  },
  {
   "cell_type": "code",
   "execution_count": 566,
   "id": "b2f9ea49-265c-49b9-9816-a40cb671d2e6",
   "metadata": {
    "tags": []
   },
   "outputs": [],
   "source": [
    "def partition(feature: np.ndarray, target: np.ndarray, t: float, shuffle: bool=True) -> tuple:\n",
    "    training_size = int(t*len(feature))\n",
    "    samples = [(feature[i], target[i]) for i in range(len(feature))]\n",
    "    if shuffle:\n",
    "        p = np.random.permutation(len(feature))\n",
    "        feature = feature[p]\n",
    "        target = target[p]\n",
    "    return (feature[:training_size], feature[training_size:], target[:training_size], target[training_size:])"
   ]
  },
  {
   "cell_type": "code",
   "execution_count": 418,
   "id": "dbbab1ae-d38c-4e23-9176-fb092003aa28",
   "metadata": {
    "tags": []
   },
   "outputs": [],
   "source": [
    "# partition(np.asarray(([1,1,1,1], [2,2,2,2], [3,3,3,3])), np.asarray((1,2,3)), 1/3)"
   ]
  },
  {
   "cell_type": "markdown",
   "id": "f3421419-372c-4de1-83b9-e0b7b69000a0",
   "metadata": {},
   "source": [
    "## 14. Use your “partition” function to split the data into 80% train and 20% test. "
   ]
  },
  {
   "cell_type": "code",
   "execution_count": 567,
   "id": "d430abf5-faa5-4806-b07e-9efc6f3237df",
   "metadata": {
    "tags": []
   },
   "outputs": [
    {
     "name": "stdout",
     "output_type": "stream",
     "text": [
      "5197 1300 5197 1300\n"
     ]
    }
   ],
   "source": [
    "features_training, features_test, target_training, target_test = partition(features, targets, .8)\n",
    "print(len(features_training), len(features_test), len(target_training), len(target_test))"
   ]
  },
  {
   "cell_type": "code",
   "execution_count": 568,
   "id": "055a6c50-a48d-4bc1-9987-b5d2906d12a4",
   "metadata": {
    "tags": []
   },
   "outputs": [],
   "source": [
    "classifier = KNN_Classifier(n_neighbors=5, weights=\"distance\", p=2)"
   ]
  },
  {
   "cell_type": "code",
   "execution_count": 569,
   "id": "64c73871-2473-4c0c-8e3f-47c585cdc5af",
   "metadata": {
    "tags": []
   },
   "outputs": [],
   "source": [
    "classifier.fit(features_training, target_training)"
   ]
  },
  {
   "cell_type": "code",
   "execution_count": 570,
   "id": "dae0a7d4-1083-4a3b-9785-9077475ff3dd",
   "metadata": {
    "tags": []
   },
   "outputs": [
    {
     "data": {
      "text/plain": [
       "{'n_neighbors': 5, 'weights': 'distance', 'p': 2}"
      ]
     },
     "execution_count": 570,
     "metadata": {},
     "output_type": "execute_result"
    }
   ],
   "source": [
    "classifier.get_params()"
   ]
  },
  {
   "cell_type": "code",
   "execution_count": 571,
   "id": "ac51fc6d-bc48-4938-90fe-c181e349141a",
   "metadata": {
    "tags": []
   },
   "outputs": [],
   "source": [
    "b = classifier.predict(features_test)"
   ]
  },
  {
   "cell_type": "code",
   "execution_count": null,
   "id": "bf943a19-ca9c-46c6-86f0-624e4810edfe",
   "metadata": {},
   "outputs": [],
   "source": [
    "# accuracies = []\n",
    "# classifier = KNN_Classifier(n_neighbors=5, weights=\"distance\", p=2)\n",
    "# for i in range(5):\n",
    "#     features_training, features_test, target_training, target_test = partition(features, targets, .8)\n",
    "#     classifier.fit(features_training, target_training)\n",
    "#     prediction = classifier.predict(features_test)\n",
    "#     accuracies.append(accuracy(prediction, target_test))\n",
    "# print(accuracies)\n",
    "# print(sum(accuracies)/len(accuracies))"
   ]
  },
  {
   "cell_type": "code",
   "execution_count": 578,
   "id": "bab4816c-f69d-4717-a6e2-c54f3676ad74",
   "metadata": {
    "tags": []
   },
   "outputs": [
    {
     "name": "stdout",
     "output_type": "stream",
     "text": [
      "0.9653846153846153\n"
     ]
    }
   ],
   "source": [
    "# print(sum([0.9723076923076923, 0.9646153846153847, 0.9607692307692308, 0.9653846153846154, 0.9638461538461538])/5)"
   ]
  },
  {
   "cell_type": "code",
   "execution_count": 579,
   "id": "af4e1081-cdaf-40e5-b7a8-f5afc5a4d5ee",
   "metadata": {
    "tags": []
   },
   "outputs": [
    {
     "name": "stdout",
     "output_type": "stream",
     "text": [
      "0.9645990457134062\n"
     ]
    }
   ],
   "source": [
    "# classifier = KNN_Classifier(n_neighbors=5, weights=\"distance\", p=2)\n",
    "# classifier.fit(features, targets)\n",
    "# prediction = classifier.predict(features)\n",
    "# print(accuracy(prediction, targets))\n"
   ]
  },
  {
   "cell_type": "code",
   "execution_count": 580,
   "id": "425b52e1-a4b5-496e-8c59-36a13a2f170e",
   "metadata": {
    "tags": []
   },
   "outputs": [
    {
     "name": "stdout",
     "output_type": "stream",
     "text": [
      "0.981904012588513\n"
     ]
    }
   ],
   "source": [
    "# print(F1(prediction, targets))"
   ]
  },
  {
   "cell_type": "code",
   "execution_count": 581,
   "id": "bad10401-1e32-4aef-8a11-42fbed849034",
   "metadata": {
    "tags": []
   },
   "outputs": [
    {
     "name": "stdout",
     "output_type": "stream",
     "text": [
      "0.9660938225731538\n"
     ]
    }
   ],
   "source": [
    "# print(recall(prediction, targets))"
   ]
  },
  {
   "cell_type": "code",
   "execution_count": 582,
   "id": "1c3889e8-ef4e-45dd-81e9-290886bddacd",
   "metadata": {
    "tags": []
   },
   "outputs": [
    {
     "name": "stdout",
     "output_type": "stream",
     "text": [
      "0.9982402815549513\n"
     ]
    }
   ],
   "source": [
    "# print(precision(prediction, targets))"
   ]
  },
  {
   "cell_type": "code",
   "execution_count": null,
   "id": "c90b596e-0f72-421a-b65e-fbbb604b929e",
   "metadata": {},
   "outputs": [],
   "source": []
  }
 ],
 "metadata": {
  "kernelspec": {
   "display_name": "Python 3 (ipykernel)",
   "language": "python",
   "name": "python3"
  },
  "language_info": {
   "codemirror_mode": {
    "name": "ipython",
    "version": 3
   },
   "file_extension": ".py",
   "mimetype": "text/x-python",
   "name": "python",
   "nbconvert_exporter": "python",
   "pygments_lexer": "ipython3",
   "version": "3.11.4"
  }
 },
 "nbformat": 4,
 "nbformat_minor": 5
}
